{
 "cells": [
  {
   "cell_type": "code",
   "execution_count": 1,
   "metadata": {},
   "outputs": [],
   "source": [
    "import tweepy"
   ]
  },
  {
   "cell_type": "code",
   "execution_count": 7,
   "metadata": {},
   "outputs": [
    {
     "data": {
      "text/plain": [
       "'yLqAHtKRGPSVRPxgGuBIXu5EHdKaNIuadiRsaDNFyF0Y2'"
      ]
     },
     "execution_count": 7,
     "metadata": {},
     "output_type": "execute_result"
    }
   ],
   "source": [
    "os.environ[\"TWITTER_ACCESS_SECRET\"]"
   ]
  },
  {
   "cell_type": "code",
   "execution_count": 8,
   "metadata": {},
   "outputs": [
    {
     "ename": "Forbidden",
     "evalue": "403 Forbidden\nWhen authenticating requests to the Twitter API v2 endpoints, you must use keys and tokens from a Twitter developer App that is attached to a Project. You can create a project via the developer portal.",
     "output_type": "error",
     "traceback": [
      "\u001b[1;31m---------------------------------------------------------------------------\u001b[0m",
      "\u001b[1;31mForbidden\u001b[0m                                 Traceback (most recent call last)",
      "\u001b[1;32mc:\\Users\\0442B3744\\Documents\\GitHub\\ice_breaker3\\Test1.ipynb Cell 3\u001b[0m line \u001b[0;36m4\n\u001b[0;32m     <a href='vscode-notebook-cell:/c%3A/Users/0442B3744/Documents/GitHub/ice_breaker3/Test1.ipynb#W1sZmlsZQ%3D%3D?line=35'>36</a>\u001b[0m     \u001b[39mreturn\u001b[39;00m tweet_list\n\u001b[0;32m     <a href='vscode-notebook-cell:/c%3A/Users/0442B3744/Documents/GitHub/ice_breaker3/Test1.ipynb#W1sZmlsZQ%3D%3D?line=38'>39</a>\u001b[0m \u001b[39mif\u001b[39;00m \u001b[39m__name__\u001b[39m \u001b[39m==\u001b[39m \u001b[39m\"\u001b[39m\u001b[39m__main__\u001b[39m\u001b[39m\"\u001b[39m:\n\u001b[1;32m---> <a href='vscode-notebook-cell:/c%3A/Users/0442B3744/Documents/GitHub/ice_breaker3/Test1.ipynb#W1sZmlsZQ%3D%3D?line=39'>40</a>\u001b[0m     \u001b[39mprint\u001b[39m(scrape_user_tweets(username\u001b[39m=\u001b[39;49m\u001b[39m\"\u001b[39;49m\u001b[39mhwchase17\u001b[39;49m\u001b[39m\"\u001b[39;49m))\n",
      "\u001b[1;32mc:\\Users\\0442B3744\\Documents\\GitHub\\ice_breaker3\\Test1.ipynb Cell 3\u001b[0m line \u001b[0;36m2\n\u001b[0;32m     <a href='vscode-notebook-cell:/c%3A/Users/0442B3744/Documents/GitHub/ice_breaker3/Test1.ipynb#W1sZmlsZQ%3D%3D?line=18'>19</a>\u001b[0m \u001b[39mdef\u001b[39;00m \u001b[39mscrape_user_tweets\u001b[39m(username, num_tweets\u001b[39m=\u001b[39m\u001b[39m5\u001b[39m):\n\u001b[0;32m     <a href='vscode-notebook-cell:/c%3A/Users/0442B3744/Documents/GitHub/ice_breaker3/Test1.ipynb#W1sZmlsZQ%3D%3D?line=19'>20</a>\u001b[0m \u001b[39m    \u001b[39m\u001b[39m\"\"\"\u001b[39;00m\n\u001b[0;32m     <a href='vscode-notebook-cell:/c%3A/Users/0442B3744/Documents/GitHub/ice_breaker3/Test1.ipynb#W1sZmlsZQ%3D%3D?line=20'>21</a>\u001b[0m \u001b[39m    Scrapes a Twitter user's original tweets (i.e., not retweets or replies) and returns them as a list of dictionaries.\u001b[39;00m\n\u001b[0;32m     <a href='vscode-notebook-cell:/c%3A/Users/0442B3744/Documents/GitHub/ice_breaker3/Test1.ipynb#W1sZmlsZQ%3D%3D?line=21'>22</a>\u001b[0m \u001b[39m    Each dictionary has three fields: \"time_posted\" (relative to now), \"text\", and \"url\".\u001b[39;00m\n\u001b[0;32m     <a href='vscode-notebook-cell:/c%3A/Users/0442B3744/Documents/GitHub/ice_breaker3/Test1.ipynb#W1sZmlsZQ%3D%3D?line=22'>23</a>\u001b[0m \u001b[39m    \"\"\"\u001b[39;00m\n\u001b[1;32m---> <a href='vscode-notebook-cell:/c%3A/Users/0442B3744/Documents/GitHub/ice_breaker3/Test1.ipynb#W1sZmlsZQ%3D%3D?line=23'>24</a>\u001b[0m     user_id \u001b[39m=\u001b[39m twitter_client\u001b[39m.\u001b[39;49mget_user(username\u001b[39m=\u001b[39;49musername)\u001b[39m.\u001b[39mdata\u001b[39m.\u001b[39mid\n\u001b[0;32m     <a href='vscode-notebook-cell:/c%3A/Users/0442B3744/Documents/GitHub/ice_breaker3/Test1.ipynb#W1sZmlsZQ%3D%3D?line=24'>25</a>\u001b[0m     tweets \u001b[39m=\u001b[39m twitter_client\u001b[39m.\u001b[39mget_users_tweets(\n\u001b[0;32m     <a href='vscode-notebook-cell:/c%3A/Users/0442B3744/Documents/GitHub/ice_breaker3/Test1.ipynb#W1sZmlsZQ%3D%3D?line=25'>26</a>\u001b[0m         \u001b[39mid\u001b[39m\u001b[39m=\u001b[39muser_id, max_results\u001b[39m=\u001b[39mnum_tweets, exclude\u001b[39m=\u001b[39m[\u001b[39m\"\u001b[39m\u001b[39mretweets\u001b[39m\u001b[39m\"\u001b[39m, \u001b[39m\"\u001b[39m\u001b[39mreplies\u001b[39m\u001b[39m\"\u001b[39m]\n\u001b[0;32m     <a href='vscode-notebook-cell:/c%3A/Users/0442B3744/Documents/GitHub/ice_breaker3/Test1.ipynb#W1sZmlsZQ%3D%3D?line=26'>27</a>\u001b[0m     )\n\u001b[0;32m     <a href='vscode-notebook-cell:/c%3A/Users/0442B3744/Documents/GitHub/ice_breaker3/Test1.ipynb#W1sZmlsZQ%3D%3D?line=28'>29</a>\u001b[0m     tweet_list \u001b[39m=\u001b[39m []\n",
      "File \u001b[1;32mc:\\Users\\0442B3744\\.virtualenvs\\ice_breaker-yZqQGE08\\lib\\site-packages\\tweepy\\client.py:2441\u001b[0m, in \u001b[0;36mClient.get_user\u001b[1;34m(self, id, username, user_auth, **params)\u001b[0m\n\u001b[0;32m   2438\u001b[0m \u001b[39melse\u001b[39;00m:\n\u001b[0;32m   2439\u001b[0m     \u001b[39mraise\u001b[39;00m \u001b[39mTypeError\u001b[39;00m(\u001b[39m\"\u001b[39m\u001b[39mID or username is required\u001b[39m\u001b[39m\"\u001b[39m)\n\u001b[1;32m-> 2441\u001b[0m \u001b[39mreturn\u001b[39;00m \u001b[39mself\u001b[39;49m\u001b[39m.\u001b[39;49m_make_request(\n\u001b[0;32m   2442\u001b[0m     \u001b[39m\"\u001b[39;49m\u001b[39mGET\u001b[39;49m\u001b[39m\"\u001b[39;49m, route, params\u001b[39m=\u001b[39;49mparams,\n\u001b[0;32m   2443\u001b[0m     endpoint_parameters\u001b[39m=\u001b[39;49m(\u001b[39m\"\u001b[39;49m\u001b[39mexpansions\u001b[39;49m\u001b[39m\"\u001b[39;49m, \u001b[39m\"\u001b[39;49m\u001b[39mtweet.fields\u001b[39;49m\u001b[39m\"\u001b[39;49m, \u001b[39m\"\u001b[39;49m\u001b[39muser.fields\u001b[39;49m\u001b[39m\"\u001b[39;49m),\n\u001b[0;32m   2444\u001b[0m     data_type\u001b[39m=\u001b[39;49mUser, user_auth\u001b[39m=\u001b[39;49muser_auth\n\u001b[0;32m   2445\u001b[0m )\n",
      "File \u001b[1;32mc:\\Users\\0442B3744\\.virtualenvs\\ice_breaker-yZqQGE08\\lib\\site-packages\\tweepy\\client.py:129\u001b[0m, in \u001b[0;36mBaseClient._make_request\u001b[1;34m(self, method, route, params, endpoint_parameters, json, data_type, user_auth)\u001b[0m\n\u001b[0;32m    123\u001b[0m \u001b[39mdef\u001b[39;00m \u001b[39m_make_request\u001b[39m(\n\u001b[0;32m    124\u001b[0m     \u001b[39mself\u001b[39m, method, route, params\u001b[39m=\u001b[39m{}, endpoint_parameters\u001b[39m=\u001b[39m(), json\u001b[39m=\u001b[39m\u001b[39mNone\u001b[39;00m,\n\u001b[0;32m    125\u001b[0m     data_type\u001b[39m=\u001b[39m\u001b[39mNone\u001b[39;00m, user_auth\u001b[39m=\u001b[39m\u001b[39mFalse\u001b[39;00m\n\u001b[0;32m    126\u001b[0m ):\n\u001b[0;32m    127\u001b[0m     request_params \u001b[39m=\u001b[39m \u001b[39mself\u001b[39m\u001b[39m.\u001b[39m_process_params(params, endpoint_parameters)\n\u001b[1;32m--> 129\u001b[0m     response \u001b[39m=\u001b[39m \u001b[39mself\u001b[39;49m\u001b[39m.\u001b[39;49mrequest(method, route, params\u001b[39m=\u001b[39;49mrequest_params,\n\u001b[0;32m    130\u001b[0m                             json\u001b[39m=\u001b[39;49mjson, user_auth\u001b[39m=\u001b[39;49muser_auth)\n\u001b[0;32m    132\u001b[0m     \u001b[39mif\u001b[39;00m \u001b[39mself\u001b[39m\u001b[39m.\u001b[39mreturn_type \u001b[39mis\u001b[39;00m requests\u001b[39m.\u001b[39mResponse:\n\u001b[0;32m    133\u001b[0m         \u001b[39mreturn\u001b[39;00m response\n",
      "File \u001b[1;32mc:\\Users\\0442B3744\\.virtualenvs\\ice_breaker-yZqQGE08\\lib\\site-packages\\tweepy\\client.py:100\u001b[0m, in \u001b[0;36mBaseClient.request\u001b[1;34m(self, method, route, params, json, user_auth)\u001b[0m\n\u001b[0;32m     98\u001b[0m     \u001b[39mraise\u001b[39;00m Unauthorized(response)\n\u001b[0;32m     99\u001b[0m \u001b[39mif\u001b[39;00m response\u001b[39m.\u001b[39mstatus_code \u001b[39m==\u001b[39m \u001b[39m403\u001b[39m:\n\u001b[1;32m--> 100\u001b[0m     \u001b[39mraise\u001b[39;00m Forbidden(response)\n\u001b[0;32m    101\u001b[0m \u001b[39mif\u001b[39;00m response\u001b[39m.\u001b[39mstatus_code \u001b[39m==\u001b[39m \u001b[39m404\u001b[39m:\n\u001b[0;32m    102\u001b[0m     \u001b[39mraise\u001b[39;00m NotFound(response)\n",
      "\u001b[1;31mForbidden\u001b[0m: 403 Forbidden\nWhen authenticating requests to the Twitter API v2 endpoints, you must use keys and tokens from a Twitter developer App that is attached to a Project. You can create a project via the developer portal."
     ]
    }
   ],
   "source": [
    "import os\n",
    "import logging\n",
    "\n",
    "import tweepy\n",
    "from dotenv import load_dotenv\n",
    "\n",
    "load_dotenv()\n",
    "logger = logging.getLogger(\"twitter\")\n",
    "\n",
    "twitter_client = tweepy.Client(\n",
    "    bearer_token=os.environ[\"TWITTER_BEARER_TOKEN\"],\n",
    "    consumer_key=os.environ[\"TWITTER_API_KEY\"],\n",
    "    consumer_secret=os.environ[\"TWITTER_API_SECRET\"],\n",
    "    access_token=os.environ[\"TWITTER_ACCESS_TOKEN\"],\n",
    "    access_token_secret=os.environ[\"TWITTER_ACCESS_SECRET\"],\n",
    ")\n",
    "\n",
    "\n",
    "def scrape_user_tweets(username, num_tweets=5):\n",
    "    \"\"\"\n",
    "    Scrapes a Twitter user's original tweets (i.e., not retweets or replies) and returns them as a list of dictionaries.\n",
    "    Each dictionary has three fields: \"time_posted\" (relative to now), \"text\", and \"url\".\n",
    "    \"\"\"\n",
    "    user_id = twitter_client.get_user(username=username).data.id\n",
    "    tweets = twitter_client.get_users_tweets(\n",
    "        id=user_id, max_results=num_tweets, exclude=[\"retweets\", \"replies\"]\n",
    "    )\n",
    "\n",
    "    tweet_list = []\n",
    "    for tweet in tweets.data:\n",
    "        tweet_dict = {}\n",
    "        tweet_dict[\"text\"] = tweet[\"text\"]\n",
    "        tweet_dict[\"url\"] = f\"https://twitter.com/{username}/status/{tweet.id}\"\n",
    "        tweet_list.append(tweet_dict)\n",
    "\n",
    "    return tweet_list\n",
    "\n",
    "\n",
    "if __name__ == \"__main__\":\n",
    "    print(scrape_user_tweets(username=\"hwchase17\"))\n"
   ]
  }
 ],
 "metadata": {
  "kernelspec": {
   "display_name": "ice_breaker-yZqQGE08",
   "language": "python",
   "name": "python3"
  },
  "language_info": {
   "codemirror_mode": {
    "name": "ipython",
    "version": 3
   },
   "file_extension": ".py",
   "mimetype": "text/x-python",
   "name": "python",
   "nbconvert_exporter": "python",
   "pygments_lexer": "ipython3",
   "version": "3.9.13"
  }
 },
 "nbformat": 4,
 "nbformat_minor": 2
}
